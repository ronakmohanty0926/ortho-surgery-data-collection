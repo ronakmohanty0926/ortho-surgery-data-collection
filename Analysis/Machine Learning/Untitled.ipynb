{
 "cells": [
  {
   "cell_type": "code",
   "execution_count": 26,
   "metadata": {},
   "outputs": [],
   "source": [
    "numbers = [1, 212, 12, 12]\n",
    "x =1212\n",
    "count = 0"
   ]
  },
  {
   "cell_type": "code",
   "execution_count": 31,
   "metadata": {},
   "outputs": [
    {
     "name": "stdout",
     "output_type": "stream",
     "text": [
      "n1:  0\n",
      "n2:  0\n",
      "n2:  1\n",
      "count:  1\n",
      "n2:  2\n",
      "n2:  3\n",
      "n1:  1\n",
      "n2:  0\n",
      "n2:  1\n",
      "n2:  2\n",
      "n2:  3\n",
      "n1:  2\n",
      "n2:  0\n",
      "n2:  1\n",
      "n2:  2\n",
      "n2:  3\n",
      "count:  2\n",
      "n1:  3\n",
      "n2:  0\n",
      "n2:  1\n",
      "n2:  2\n",
      "count:  3\n",
      "n2:  3\n"
     ]
    }
   ],
   "source": [
    "for n1 in range(len(numbers)):\n",
    "    print('n1: ', n1)\n",
    "    for n2 in range(len(numbers)):\n",
    "        print('n2: ', n2)\n",
    "        if(n1!=n2):\n",
    "            if(str(numbers[n1]) + str(numbers[n2]) == str(x)):\n",
    "                count+= 1\n",
    "                print('count: ', count)\n",
    "                             "
   ]
  },
  {
   "cell_type": "code",
   "execution_count": 29,
   "metadata": {},
   "outputs": [
    {
     "name": "stdout",
     "output_type": "stream",
     "text": [
      "n1:  0\n",
      "n2:  0\n",
      "n2:  1\n",
      "n2:  2\n",
      "n2:  3\n",
      "n1:  1\n",
      "n2:  0\n",
      "n2:  1\n",
      "n2:  2\n",
      "n2:  3\n",
      "n1:  2\n",
      "n2:  0\n",
      "n2:  1\n",
      "n2:  2\n",
      "n2:  3\n",
      "n1:  3\n",
      "n2:  0\n",
      "n2:  1\n",
      "n2:  2\n",
      "n2:  3\n"
     ]
    }
   ],
   "source": [
    "for n1 in range(len(numbers)):\n",
    "    print('n1: ', n1)\n",
    "    for n2 in range(len(numbers)):\n",
    "        print('n2: ', n2)\n",
    "        if(n1!=n2):\n",
    "            concat_num = numbers[n1] + numbers[n2]\n",
    "            if(concat_num == x):\n",
    "                count+= 1\n",
    "                print('count: ', count)\n",
    "                             "
   ]
  },
  {
   "cell_type": "code",
   "execution_count": null,
   "metadata": {},
   "outputs": [],
   "source": []
  }
 ],
 "metadata": {
  "kernelspec": {
   "display_name": "Python 3",
   "language": "python",
   "name": "python3"
  },
  "language_info": {
   "codemirror_mode": {
    "name": "ipython",
    "version": 3
   },
   "file_extension": ".py",
   "mimetype": "text/x-python",
   "name": "python",
   "nbconvert_exporter": "python",
   "pygments_lexer": "ipython3",
   "version": "3.8.5"
  }
 },
 "nbformat": 4,
 "nbformat_minor": 4
}
